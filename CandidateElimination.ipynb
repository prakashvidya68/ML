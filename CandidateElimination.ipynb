{
 "cells": [
  {
   "cell_type": "code",
   "execution_count": 9,
   "metadata": {},
   "outputs": [
    {
     "ename": "SyntaxError",
     "evalue": "invalid syntax (<ipython-input-9-67a37efb7de6>, line 3)",
     "output_type": "error",
     "traceback": [
      "\u001b[0;36m  File \u001b[0;32m\"<ipython-input-9-67a37efb7de6>\"\u001b[0;36m, line \u001b[0;32m3\u001b[0m\n\u001b[0;31m    with open(\"enjoysport.csv\") as f\u001b[0m\n\u001b[0m                                     ^\u001b[0m\n\u001b[0;31mSyntaxError\u001b[0m\u001b[0;31m:\u001b[0m invalid syntax\n"
     ]
    }
   ],
   "source": [
    "import csv \n",
    "\n",
    "with open(\"enjoysport.csv\") as f: \n",
    "\n",
    "    csv_file=csv.reader(f) \n",
    "\n",
    "    data=list(csv_file)\n",
    "\n",
    "    for i in data: \n",
    "\n",
    "        if i[-1]==\"yes\": \n",
    "\n",
    "            s=i[:-1] \n",
    "\n",
    "            break \n",
    "\n",
    "    print(s) \n",
    "\n",
    " \n",
    "\n",
    "    g=[['?' for i in range(len(s))] for j in range(len(s))] \n",
    "\n",
    "     \n",
    "\n",
    "    for i in data: \n",
    "\n",
    "        if i[-1]==\"yes\": \n",
    "\n",
    "            for j in range(len(s)): \n",
    "\n",
    "                if i[j]!=s[j]: \n",
    "\n",
    "                    s[j]='?' \n",
    "\n",
    "                    g[j][j]='?' \n",
    "\n",
    "         \n",
    "\n",
    "        elif i[-1]==\"no\": \n",
    "\n",
    "            for j in range(len(s)): \n",
    "\n",
    "                if i[j]!=s[j]: \n",
    "\n",
    "                    g[j][j]=s[j] \n",
    "\n",
    "                else: \n",
    "\n",
    "                    g[j][j]=\"?\" \n",
    "\n",
    "        print(\"\\nSteps of Candidate Elimination Algorithm\",data.index(i)+1) \n",
    "\n",
    "        print(s) \n",
    "\n",
    "        print(g) \n",
    "\n",
    "    gh=[] \n",
    "\n",
    "    for i in g: \n",
    "\n",
    "        for j in i: \n",
    "\n",
    "            if j!='?': \n",
    "\n",
    "                gh.append(i) \n",
    "\n",
    "                break \n",
    "\n",
    "    print(\"\\nFinal specific hypothesis:\\n\",s) \n",
    "\n",
    " \n",
    "\n",
    "    print(\"\\nFinal general hypothesis:\\n\",gh) "
   ]
  }
 ],
 "metadata": {
  "kernelspec": {
   "display_name": "Python 3",
   "language": "python",
   "name": "python3"
  },
  "language_info": {
   "codemirror_mode": {
    "name": "ipython",
    "version": 3
   },
   "file_extension": ".py",
   "mimetype": "text/x-python",
   "name": "python",
   "nbconvert_exporter": "python",
   "pygments_lexer": "ipython3",
   "version": "3.8.3"
  }
 },
 "nbformat": 4,
 "nbformat_minor": 4
}
