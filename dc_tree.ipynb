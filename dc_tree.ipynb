{
 "cells": [
  {
   "cell_type": "code",
   "execution_count": 60,
   "metadata": {},
   "outputs": [
    {
     "data": {
      "text/plain": [
       "{'acc': 0.9047619047619048,\n",
       " 'pre': 0.9428571428571428,\n",
       " 'red': 0.9285714285714286,\n",
       " 'f1': 0.9166666666666667}"
      ]
     },
     "execution_count": 60,
     "metadata": {},
     "output_type": "execute_result"
    },
    {
     "data": {
      "image/png": "[encoded data removed]",
      "text/plain": [
       "<Figure size 432x288 with 2 Axes>"
      ]
     },
     "metadata": {
      "needs_background": "light"
     },
     "output_type": "display_data"
    }
   ],
   "source": [
    "import pandas as pd\n",
    "import numpy as np\n",
    "import matplotlib.pyplot as plt\n",
    "\n",
    "df=pd.read_csv(\"SCIKIT/dcTree.csv\")\n",
    "df.head()\n",
    "names = [f\"x{i}\" for i in range(df.shape[1] - 1)] + [\"target\"]\n",
    "df=pd.read_csv(\"SCIKIT/dcTree.csv\", names=names)\n",
    "\n",
    "\n",
    "X=df.drop(\"target\", axis=1)\n",
    "y=df[\"target\"]\n",
    "\n",
    "from sklearn.tree import DecisionTreeClassifier\n",
    "from sklearn.metrics import accuracy_score, precision_score, recall_score, f1_score, plot_confusion_matrix\n",
    "from sklearn.model_selection import train_test_split\n",
    "\n",
    "X_train, X_test, y_train, y_test = train_test_split(X,y,test_size=0.2)\n",
    "\n",
    "model=DecisionTreeClassifier()\n",
    "\n",
    "model.fit(X_train, y_train)\n",
    "\n",
    "y_preds=model.predict(X_test)\n",
    "\n",
    "plot_confusion_matrix(model,X_test, y_test)\n",
    "\n",
    "\n",
    "score = {\n",
    "    \"acc\": accuracy_score(y_test, y_preds),\n",
    "    \"pre\": precision_score(y_test, y_preds, average=\"macro\"),\n",
    "    \"red\": recall_score(y_test, y_preds, average=\"macro\"),\n",
    "    \"f1\": f1_score(y_test, y_preds, average=\"macro\")\n",
    "}\n",
    "\n",
    "score\n"
   ]
  },
  {
   "cell_type": "code",
   "execution_count": null,
   "metadata": {},
   "outputs": [],
   "source": []
  }
 ],
 "metadata": {
  "kernelspec": {
   "display_name": "Python 3",
   "language": "python",
   "name": "python3"
  },
  "language_info": {
   "codemirror_mode": {
    "name": "ipython",
    "version": 3
   },
   "file_extension": ".py",
   "mimetype": "text/x-python",
   "name": "python",
   "nbconvert_exporter": "python",
   "pygments_lexer": "ipython3",
   "version": "3.8.3"
  }
 },
 "nbformat": 4,
 "nbformat_minor": 4
}
