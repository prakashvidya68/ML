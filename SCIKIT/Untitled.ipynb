{
 "cells": [
  {
   "cell_type": "code",
   "execution_count": 190,
   "metadata": {},
   "outputs": [
    {
     "data": {
      "text/plain": [
       "array([0.8627451, 0.85     ])"
      ]
     },
     "execution_count": 190,
     "metadata": {},
     "output_type": "execute_result"
    }
   ],
   "source": [
    "import numpy as np\n",
    "import pandas as pd\n",
    "import matplotlib.pyplot as plt\n",
    "\n",
    "from sklearn.model_selection import train_test_split\n",
    "from sklearn.naive_bayes import GaussianNB\n",
    "from sklearn.metrics import confusion_matrix\n",
    "\n",
    "data = pd.read_csv('heart-disease.csv')\n",
    "\n",
    "x = data.drop('target', axis=1)\n",
    "\n",
    "y = data.target\n",
    "\n",
    "\n",
    "x_train,x_test,y_train,y_test = train_test_split(x,y,test_size = 0.3,random_state = 109)\n",
    "\n",
    "ml = GaussianNB()\n",
    "\n",
    "\n",
    "ml.fit(x_train, y_train)\n",
    "\n",
    "y_pred = ml.predict(x_test)\n",
    "\n",
    "cm = confusion_matrix(y_test,y_pred)\n",
    "\n",
    "\n",
    "FP = cm.sum(axis = 0) - np.diag(cm)\n",
    "\n",
    "FN = cm.sum(axis = 1) - np.diag(cm)\n",
    "\n",
    "TP = np.diag(cm)\n",
    "\n",
    "TN = cm.sum() - (TP + FN + FP)\n",
    "\n",
    "\n",
    "spec = TN/(FP + TN)\n",
    "\n",
    "spec\n"
   ]
  }
 ],
 "metadata": {
  "kernelspec": {
   "display_name": "Python 3",
   "language": "python",
   "name": "python3"
  },
  "language_info": {
   "codemirror_mode": {
    "name": "ipython",
    "version": 3
   },
   "file_extension": ".py",
   "mimetype": "text/x-python",
   "name": "python",
   "nbconvert_exporter": "python",
   "pygments_lexer": "ipython3",
   "version": "3.8.3"
  }
 },
 "nbformat": 4,
 "nbformat_minor": 4
}
